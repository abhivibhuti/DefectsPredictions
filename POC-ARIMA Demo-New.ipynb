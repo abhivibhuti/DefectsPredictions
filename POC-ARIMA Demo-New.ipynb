{
  "cells": [
    {
      "metadata": {
        "trusted": true
      },
      "cell_type": "code",
      "source": "!pip install --upgrade pandas",
      "execution_count": 3,
      "outputs": [
        {
          "output_type": "stream",
          "text": "Collecting pandas\n  Using cached pandas-0.25.3-cp35-cp35m-manylinux1_x86_64.whl (10.3 MB)\nRequirement already satisfied, skipping upgrade: python-dateutil>=2.6.1 in /home/nbuser/anaconda3_420/lib/python3.5/site-packages (from pandas) (2.8.1)\nRequirement already satisfied, skipping upgrade: numpy>=1.13.3 in /home/nbuser/anaconda3_420/lib/python3.5/site-packages (from pandas) (1.17.3)\nCollecting pytz>=2017.2\n  Using cached pytz-2019.3-py2.py3-none-any.whl (509 kB)\nRequirement already satisfied, skipping upgrade: six>=1.5 in /home/nbuser/anaconda3_420/lib/python3.5/site-packages (from python-dateutil>=2.6.1->pandas) (1.11.0)\nInstalling collected packages: pytz, pandas\n  Attempting uninstall: pytz\n    Found existing installation: pytz 2016.6.1\n\u001b[31mERROR: Cannot uninstall 'pytz'. It is a distutils installed project and thus we cannot accurately determine which files belong to it which would lead to only a partial uninstall.\u001b[0m\n",
          "name": "stdout"
        }
      ]
    },
    {
      "metadata": {
        "trusted": true
      },
      "cell_type": "code",
      "source": "import warnings\nwarnings.filterwarnings('ignore')\nimport numpy as np\nimport pandas as pd                              \nimport matplotlib.pyplot as plt\nimport sys\nimport time\nimport math\n#from datetime import datetime\n#%matplotlib inline\n#from matplotlib.pyplot import rcParams\n#rcParams['figure.figsize'] = 10,6\n\n",
      "execution_count": 13,
      "outputs": []
    },
    {
      "metadata": {
        "trusted": true
      },
      "cell_type": "code",
      "source": "data = pd.read_excel('./SABRE NCe Data.xlsx', sheet_name='SABRE 2018-2019 Data')\n#Parse string to datetime type\n#nce['Date Opened'] = nce['Date Opened'].dt.strftime('%Y-%m')\n#nce['Date Opened'] = pd.to_datetime(nce['Date Opened'], infer_datetime_format = True, format='%Y%m')\n#analysis = nce[['Date Opened','NCe']]\n#print(analysis.head(5))\n#df = analysis.groupby('Date Opened', as_index=False).count()\n#df = analysis.groupby('Date Opened', as_index=False).count()\n#print(df.head(5))\n#df = df[12:24]\n#indexedNce = df.set_index(['Date Opened'])\n#print(indexedNce)\n\n",
      "execution_count": 18,
      "outputs": []
    },
    {
      "metadata": {
        "trusted": true
      },
      "cell_type": "code",
      "source": "data.head()",
      "execution_count": 19,
      "outputs": [
        {
          "output_type": "execute_result",
          "execution_count": 19,
          "data": {
            "text/html": "<div>\n<table border=\"1\" class=\"dataframe\">\n  <thead>\n    <tr style=\"text-align: right;\">\n      <th></th>\n      <th>Year Wise Nce Count</th>\n      <th>Unnamed: 1</th>\n      <th>Unnamed: 2</th>\n      <th>Unnamed: 3</th>\n      <th>Unnamed: 4</th>\n      <th>Unnamed: 5</th>\n      <th>Year Wise Investigation Count</th>\n      <th>Unnamed: 7</th>\n      <th>Unnamed: 8</th>\n      <th>Unnamed: 9</th>\n      <th>Unnamed: 10</th>\n      <th>NCes on Commodity  Code</th>\n      <th>Unnamed: 12</th>\n      <th>Unnamed: 13</th>\n      <th>Unnamed: 14</th>\n      <th>Unnamed: 15</th>\n    </tr>\n  </thead>\n  <tbody>\n    <tr>\n      <th>0</th>\n      <td>Customer Temperature Impact</td>\n      <td>(All)</td>\n      <td>NaN</td>\n      <td>NaN</td>\n      <td>NaN</td>\n      <td>NaN</td>\n      <td>Customer Temperature Impact</td>\n      <td>(All)</td>\n      <td>NaN</td>\n      <td>NaN</td>\n      <td>NaN</td>\n      <td>NaN</td>\n      <td>NaN</td>\n      <td>NaN</td>\n      <td>Year Wise RCCA Count</td>\n      <td>NaN</td>\n    </tr>\n    <tr>\n      <th>1</th>\n      <td>Symptom Detail</td>\n      <td>(All)</td>\n      <td>NaN</td>\n      <td>NaN</td>\n      <td>NaN</td>\n      <td>NaN</td>\n      <td>Symptom Detail</td>\n      <td>(All)</td>\n      <td>NaN</td>\n      <td>NaN</td>\n      <td>NaN</td>\n      <td>Customer Temperature Impact</td>\n      <td>(All)</td>\n      <td>NaN</td>\n      <td>Row Labels</td>\n      <td>Count of RCCA</td>\n    </tr>\n    <tr>\n      <th>2</th>\n      <td>Impact</td>\n      <td>(All)</td>\n      <td>NaN</td>\n      <td>NaN</td>\n      <td>NaN</td>\n      <td>NaN</td>\n      <td>Safety Impact</td>\n      <td>(All)</td>\n      <td>NaN</td>\n      <td>NaN</td>\n      <td>NaN</td>\n      <td>Symptom Detail</td>\n      <td>(All)</td>\n      <td>NaN</td>\n      <td>2018</td>\n      <td>35</td>\n    </tr>\n    <tr>\n      <th>3</th>\n      <td>Safety Impact</td>\n      <td>(All)</td>\n      <td>NaN</td>\n      <td>NaN</td>\n      <td>NaN</td>\n      <td>NaN</td>\n      <td>Wafer Scrap Impact</td>\n      <td>(All)</td>\n      <td>NaN</td>\n      <td>NaN</td>\n      <td>NaN</td>\n      <td>Impact</td>\n      <td>(All)</td>\n      <td>NaN</td>\n      <td>Qtr1</td>\n      <td>10</td>\n    </tr>\n    <tr>\n      <th>4</th>\n      <td>Wafer Scrap Impact</td>\n      <td>(All)</td>\n      <td>NaN</td>\n      <td>NaN</td>\n      <td>NaN</td>\n      <td>NaN</td>\n      <td>Customer Name</td>\n      <td>(All)</td>\n      <td>NaN</td>\n      <td>NaN</td>\n      <td>NaN</td>\n      <td>Safety Impact</td>\n      <td>(All)</td>\n      <td>NaN</td>\n      <td>Qtr2</td>\n      <td>7</td>\n    </tr>\n  </tbody>\n</table>\n</div>",
            "text/plain": "           Year Wise Nce Count Unnamed: 1 Unnamed: 2 Unnamed: 3 Unnamed: 4  \\\n0  Customer Temperature Impact      (All)        NaN        NaN        NaN   \n1               Symptom Detail      (All)        NaN        NaN        NaN   \n2                       Impact      (All)        NaN        NaN        NaN   \n3                Safety Impact      (All)        NaN        NaN        NaN   \n4           Wafer Scrap Impact      (All)        NaN        NaN        NaN   \n\n  Unnamed: 5 Year Wise Investigation Count Unnamed: 7 Unnamed: 8 Unnamed: 9  \\\n0        NaN   Customer Temperature Impact      (All)        NaN        NaN   \n1        NaN                Symptom Detail      (All)        NaN        NaN   \n2        NaN                 Safety Impact      (All)        NaN        NaN   \n3        NaN            Wafer Scrap Impact      (All)        NaN        NaN   \n4        NaN                 Customer Name      (All)        NaN        NaN   \n\n   Unnamed: 10      NCes on Commodity  Code Unnamed: 12  Unnamed: 13  \\\n0          NaN                          NaN         NaN          NaN   \n1          NaN  Customer Temperature Impact       (All)          NaN   \n2          NaN               Symptom Detail       (All)          NaN   \n3          NaN                       Impact       (All)          NaN   \n4          NaN                Safety Impact       (All)          NaN   \n\n            Unnamed: 14    Unnamed: 15  \n0  Year Wise RCCA Count            NaN  \n1            Row Labels  Count of RCCA  \n2                  2018             35  \n3                  Qtr1             10  \n4                  Qtr2              7  "
          },
          "metadata": {}
        }
      ]
    },
    {
      "metadata": {
        "trusted": true
      },
      "cell_type": "code",
      "source": "## Plot Graph\n\nplt.xlabel('Date')\nplt.ylabel('Number of NCe')\nplt.plot(indexedNce)",
      "execution_count": null,
      "outputs": []
    },
    {
      "metadata": {
        "trusted": true
      },
      "cell_type": "code",
      "source": "#Determining Rolling Statistics\n\nrolmean = indexedNce.rolling(window = 2).mean()\nrolstd = indexedNce.rolling(window = 2).std()\nprint(rolmean, rolstd)\n",
      "execution_count": null,
      "outputs": []
    },
    {
      "metadata": {
        "trusted": true
      },
      "cell_type": "code",
      "source": "#Plot Rolling Statistics\n\norig = plt.plot(indexedNce, color = 'blue',label = 'Original')\nmean = plt.plot(rolmean,color = 'red',label = 'Rolling Mean')\nstd = plt.plot(rolstd ,color = 'black',label = 'Rolling Std')\nplt.legend(loc = 'best')\nplt.title('Rolling Mean & Standard Deviation')\nplt.show(block=False)\n",
      "execution_count": null,
      "outputs": []
    },
    {
      "metadata": {
        "trusted": true
      },
      "cell_type": "code",
      "source": "\n#Performing Dickey-Fuller Test\n\nfrom statsmodels.tsa.stattools import adfuller\n\ndftest = adfuller(indexedNce['NCe'], autolag = 'AIC')\ndfoutput = pd.Series(dftest[0:4], index = ['Test-Statistics', 'p-value', '#Lags Used', 'Number of Observations Used'])\nfor key,value in dftest[4].items():\n    dfoutput['Critical Value (%s)'%key] = value\n\nprint(dfoutput)",
      "execution_count": null,
      "outputs": []
    },
    {
      "metadata": {
        "trusted": true
      },
      "cell_type": "code",
      "source": "from statsmodels.tsa.stattools import adfuller\ndef test_stationarity(timeseries):\n    \n    #Determining Rolling Statistics\n    movingAvg = timeseries.rolling(window = 2).mean()\n    movingStd = timeseries.rolling(window = 2).std()\n    #print(rolmean, rolstd)\n\n\n    #Plot Rolling Statistics\n    orig = plt.plot(timeseries,color = 'blue',label = 'Original')\n    mean = plt.plot(movingAvg,color = 'red',label = 'Rolling Mean')\n    std = plt.plot(movingStd,color = 'black',label = 'Rolling Std')\n    plt.legend(loc = 'best')\n    plt.title('Rolling Mean & Standard Deviation')\n    plt.show(block=False)\n\n    #Performing Dickey-Fuller Test\n    print('Results of Dickey-Fuller Test ...')\n    dftest = adfuller(timeseries['NCe'], autolag = 'AIC')\n    dfoutput = pd.Series(dftest[0:4], index = ['Test-Statistics', 'p-value', '#Lags Used', 'Number of Observations Used'])\n    for key,value in dftest[4].items():\n        dfoutput['Critical Value (%s)'%key] = value\n    print(dfoutput)\n",
      "execution_count": null,
      "outputs": []
    },
    {
      "metadata": {
        "trusted": true
      },
      "cell_type": "code",
      "source": "datasetDiffShifting = indexedNce- indexedNce.shift()\nplt.plot(datasetDiffShifting)",
      "execution_count": null,
      "outputs": []
    },
    {
      "metadata": {
        "trusted": true
      },
      "cell_type": "code",
      "source": "datasetDiffShifting.dropna(inplace=True)\ntest_stationarity(datasetDiffShifting)",
      "execution_count": null,
      "outputs": []
    },
    {
      "metadata": {
        "trusted": true
      },
      "cell_type": "code",
      "source": "# Components of Time Series\n\nfrom statsmodels.tsa.seasonal import seasonal_decompose\ndecomposition = seasonal_decompose(indexedNce, freq=4)\n\ntrend = decomposition.trend\nseasonal = decomposition.seasonal\nresidual = decomposition.resid\n\nplt.subplot(411)\nplt.plot(indexedNce, label = 'Original')\nplt.legend(loc='best')\n\nplt.subplot(412)\nplt.plot(trend, label = 'Trend')\nplt.legend(loc='best')\n\nplt.subplot(413)\nplt.plot(seasonal, label = 'Seasonality')\nplt.legend(loc='best')\n\nplt.subplot(414)\nplt.plot(residual, label = 'Residuals')\nplt.legend(loc='best')\nplt.tight_layout()\n",
      "execution_count": null,
      "outputs": []
    },
    {
      "metadata": {
        "trusted": true
      },
      "cell_type": "code",
      "source": "decomposedLogData = residual\ndecomposedLogData.dropna(inplace=True)\ntest_stationarity(decomposedLogData)",
      "execution_count": null,
      "outputs": []
    },
    {
      "metadata": {
        "trusted": true
      },
      "cell_type": "code",
      "source": "datasetDiffShifting",
      "execution_count": null,
      "outputs": []
    },
    {
      "metadata": {
        "trusted": true
      },
      "cell_type": "code",
      "source": "#ACF and #PACF Graphs\n\nfrom statsmodels.tsa.stattools import acf, pacf\ndatasetDiffShifting.dropna(inplace=True)\nlag_acf = acf(datasetDiffShifting, nlags = 10)\nlag_pacf = pacf(datasetDiffShifting, nlags = 10, method = 'ols')\n\n#Plot ACF\nplt.subplot(121)\nplt.plot(lag_acf)\nplt.axhline(y=0, linestyle='--',color='gray')\nplt.axhline(y=-1.96/np.sqrt(len(datasetDiffShifting)), linestyle='--',color='gray')\nplt.axhline(y=1.96/np.sqrt(len(datasetDiffShifting)), linestyle='--',color='gray')\nplt.title('Autocorrelation Function')\n\n\n#Plot PACF\n\nplt.subplot(122)\nplt.plot(lag_pacf)\nplt.axhline(y=0, linestyle='--',color='gray')\nplt.axhline(y=-1.96/np.sqrt(len(datasetDiffShifting)), linestyle='--',color='gray')\nplt.axhline(y=1.96/np.sqrt(len(datasetDiffShifting)), linestyle='--',color='gray')\nplt.title('Partial Autocorrelation Function')\nplt.tight_layout()",
      "execution_count": null,
      "outputs": []
    },
    {
      "metadata": {
        "scrolled": true,
        "trusted": true
      },
      "cell_type": "code",
      "source": "from statsmodels.tsa.arima_model import ARIMA\n\n#AR Model\nmodel = ARIMA(indexedNce, order=(3,1,0))\nresults_AR = model.fit(disp=-1)\nplt.plot(datasetDiffShifting)\nplt.plot(results_AR.fittedvalues, color='red')\nplt.title('RSS: %4f'% sum((results_AR.fittedvalues-datasetDiffShifting['NCe'])**2))\nprint('Plotting AR Model')\nprint(results_AR.aic)",
      "execution_count": null,
      "outputs": []
    },
    {
      "metadata": {
        "trusted": true
      },
      "cell_type": "code",
      "source": "#MA model\n\nmodel = ARIMA(indexedNce, order=(0,1,1))\nresults_MA = model.fit(disp=-1)\nplt.plot(datasetDiffShifting)\nplt.plot(results_MA.fittedvalues, color='red')\nplt.title('RSS: %4f'% sum((results_MA.fittedvalues-datasetDiffShifting['NCe'])**2))\nprint('Plotting MA Model')\nprint(results_MA.aic)",
      "execution_count": null,
      "outputs": []
    },
    {
      "metadata": {
        "trusted": true
      },
      "cell_type": "code",
      "source": "import itertools\np=d=q=range(0,10)\npdq = list(itertools.product(p,d,q))\npdq",
      "execution_count": null,
      "outputs": []
    },
    {
      "metadata": {
        "scrolled": true,
        "trusted": true
      },
      "cell_type": "code",
      "source": "import time\nimport warnings\nwarnings.filterwarnings('ignore')\nstart_time = time.time()\nmRSS = sys.float_info.max\nminParam = None\nfor param in pdq:\n    try:\n        model = ARIMA(indexedNce, order=param)\n        results_ARIMA = model.fit(disp=-1)\n        if not math.isnan(sum((results_ARIMA.fittedvalues-datasetDiffShifting['NCe'])**2)):\n            print(param, results_ARIMA.aic, sum((results_ARIMA.fittedvalues-datasetDiffShifting['NCe'])**2))\n        if mRSS > sum((results_ARIMA.fittedvalues-datasetDiffShifting['NCe'])**2):\n            mRSS = sum((results_ARIMA.fittedvalues-datasetDiffShifting['NCe'])**2)\n            minParam = param\n    except:\n        continue\nprint(\"Below are the best parameters:\")\nprint(minParam,mRSS)\nend_time = time.time()\nprint(\"Total time taken to get the best parameters (in seconds): \", int(end_time - start_time))\n",
      "execution_count": null,
      "outputs": []
    },
    {
      "metadata": {
        "trusted": true
      },
      "cell_type": "code",
      "source": "#ARIMA Model\nmodel = ARIMA(indexedNce, order=(6,1,1))   \nresults_ARIMA = model.fit(disp=-1)\nplt.plot(datasetDiffShifting)\nplt.plot(results_ARIMA.fittedvalues, color='red')\nplt.title('RSS: %4f'% sum((results_ARIMA.fittedvalues-datasetDiffShifting['NCe'])**2))\nprint('Plotting ARIMA Model')\nprint(results_MA.aic)",
      "execution_count": null,
      "outputs": []
    },
    {
      "metadata": {
        "trusted": true
      },
      "cell_type": "code",
      "source": "predictions_ARIMA_diff = pd.Series(results_ARIMA.fittedvalues, copy=True)\nprint(predictions_ARIMA_diff)",
      "execution_count": null,
      "outputs": []
    },
    {
      "metadata": {
        "trusted": true
      },
      "cell_type": "code",
      "source": "#Convert to Cumulative sum\npredictions_ARIMA_diff_cumsum = predictions_ARIMA_diff.cumsum()\nprint(predictions_ARIMA_diff_cumsum)",
      "execution_count": null,
      "outputs": []
    },
    {
      "metadata": {
        "trusted": true
      },
      "cell_type": "code",
      "source": "predictions_ARIMA_log = pd.Series(indexedNce['NCe'].ix[0], index=indexedNce.index)\npredictions_ARIMA_log = predictions_ARIMA_log.add(predictions_ARIMA_diff_cumsum, fill_value=0)\npredictions_ARIMA_log\nplt.plot(indexedNce)\nplt.plot(predictions_ARIMA_log)\nplt.title('RMSE: %.4f'% np.sqrt(sum((predictions_ARIMA_log-indexedNce['NCe'])**2)/len(indexedNce)))\n",
      "execution_count": null,
      "outputs": []
    },
    {
      "metadata": {
        "trusted": true
      },
      "cell_type": "code",
      "source": "results_ARIMA.plot_predict(1,24)",
      "execution_count": null,
      "outputs": []
    },
    {
      "metadata": {
        "scrolled": true,
        "trusted": true
      },
      "cell_type": "code",
      "source": "x=results_ARIMA.forecast(steps=12)\na = x[0]\na",
      "execution_count": null,
      "outputs": []
    },
    {
      "metadata": {
        "trusted": true
      },
      "cell_type": "code",
      "source": "",
      "execution_count": null,
      "outputs": []
    }
  ],
  "metadata": {
    "kernelspec": {
      "name": "python3",
      "display_name": "Python 3",
      "language": "python"
    },
    "language_info": {
      "mimetype": "text/x-python",
      "nbconvert_exporter": "python",
      "name": "python",
      "file_extension": ".py",
      "version": "3.5.4",
      "pygments_lexer": "ipython3",
      "codemirror_mode": {
        "version": 3,
        "name": "ipython"
      }
    }
  },
  "nbformat": 4,
  "nbformat_minor": 4
}